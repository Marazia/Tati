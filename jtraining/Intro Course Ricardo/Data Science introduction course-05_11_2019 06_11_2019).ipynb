{
 "cells": [
  {
   "cell_type": "markdown",
   "metadata": {},
   "source": [
    " # Introduction to data science - Jupyter Platform  November, 05 ,06  2019\n",
    " ## Ricardo Roberto da Silva"
   ]
  },
  {
   "cell_type": "markdown",
   "metadata": {},
   "source": [
    "## Jupyter notebook\n",
    "\n",
    "- Condensation of information within the same vessel.\n",
    "- Through a virtual connection with a server you can perform high-demand calculations with any computer.\n",
    "- Loading tons of information in less time than through a software.\n"
   ]
  },
  {
   "cell_type": "markdown",
   "metadata": {},
   "source": [
    "## Python\n",
    "  \n",
    "- Used as a multi-purpose language "
   ]
  },
  {
   "cell_type": "markdown",
   "metadata": {},
   "source": [
    "### Terminology\n",
    "- Code: Sequence of insctructions to a program\n",
    "- Compilation: \"translation\" of a code to comunicate with a hardware\n",
    "- Interpreted language: a language directly read by the hardware (no need of compilation)\n",
    "- Commentaries `#` (one-lined), `\"\"\"` (in block), text that won't be interpreted as code."
   ]
  },
  {
   "cell_type": "markdown",
   "metadata": {},
   "source": [
    "### Variables\n",
    " - Recipient of diffrent values, objects.\n",
    " - Each object has a type, that can be numeric data, a string or something else.\n",
    " - The data within a variable is indexed, that can be accessed through `variable[i]` where *i* is one of our indexes,l starting with `0`\n",
    " \n",
    " "
   ]
  },
  {
   "cell_type": "markdown",
   "metadata": {},
   "source": [
    "### Data Structure:"
   ]
  },
  {
   "cell_type": "markdown",
   "metadata": {},
   "source": [
    "- **Listing** \n",
    "    - List\n",
    "    - Tuple \n",
    "    - Dictionaries\n",
    "    - Logical operations\n",
    "- **Control structures**\n",
    "- **Loop structures**\n"
   ]
  },
  {
   "cell_type": "markdown",
   "metadata": {},
   "source": [
    "### Functions: \n",
    "a block of code that perform specifical operations"
   ]
  },
  {
   "cell_type": "markdown",
   "metadata": {},
   "source": [
    "## Numpy library introduction"
   ]
  },
  {
   "cell_type": "markdown",
   "metadata": {},
   "source": [
    "Its an open coded library to perform complex numeric operations.\n",
    "\n",
    " - Flexible indexation to matrix manupulation;\n",
    " - Implemented algorithms;\n",
    " - Transparent interface to code;\n",
    "      - `namefunction.function(parameters)`\n",
    " - Support to varous probabilities distributions      "
   ]
  },
  {
   "cell_type": "markdown",
   "metadata": {},
   "source": [
    "In numpy the calculations are made using arrays(matrices), and within the arrays we have only one type of data."
   ]
  },
  {
   "cell_type": "markdown",
   "metadata": {},
   "source": [
    "## Pandas library introduction"
   ]
  },
  {
   "cell_type": "markdown",
   "metadata": {},
   "source": [
    "- Pandas' library  has indexed content.\n",
    "- One dimensioned data content, Series\n",
    "- Multi-dimensioned data content, the Dataframes."
   ]
  },
  {
   "cell_type": "markdown",
   "metadata": {},
   "source": [
    " ## Scikit-learn library\n",
    "- Statistical analysis;\n",
    "     - Supervisioned\n",
    "         - Classification;\n",
    "         - Regression;\n",
    "     - Non supervisioned                 \n",
    "         - Clustering;\n",
    "         - Dimensionality reduction\n",
    "- Linear algebra \n",
    "- Machine learning interface"
   ]
  },
  {
   "cell_type": "markdown",
   "metadata": {},
   "source": [
    "scipylectures"
   ]
  },
  {
   "cell_type": "markdown",
   "metadata": {},
   "source": [
    "### K-Fold Cross Validation\n",
    "Divides data D in k subsets D;\n",
    "\n",
    "For each  $ i  \\in [1,k]$\n",
    "\n",
    "Calculate performance in the $D_i$ test model;"
   ]
  },
  {
   "cell_type": "markdown",
   "metadata": {},
   "source": [
    "Naive Bayes - Intend to assume independence between predictor variables (characteristics) and the answer.\n",
    "\n",
    "$P(Y_k|x) =\\frac{ p(y_k)p(x|y_k)}{p(x)}$\n",
    "\n",
    "$p(y\\cap x) =P(Y_k|x)*p(x) $\n",
    "\n",
    "$P(Y_k|x) = \\frac{p(y\\cap x)}{P(Y_k|x)}$\n",
    "\n",
    "\n",
    "-  $P(Y_k|x)$ = likelihood \n",
    "\n",
    "-  $\\frac{ p(y_k)}{p(x|y_k)}$ = class priori probability\n",
    "\n",
    "-  ${p(x)}$ = predictor point probability\n"
   ]
  },
  {
   "cell_type": "markdown",
   "metadata": {},
   "source": [
    "### Support Vector Machines\n",
    "\n",
    "- Decision boundaries\n",
    "- Separation of species between it's characteristics \n",
    "\n",
    "### Random forest\n",
    "\n",
    "- Ensemble method "
   ]
  },
  {
   "cell_type": "markdown",
   "metadata": {},
   "source": [
    "True positive P p'\n",
    "False Negative n P'\n",
    "False positive n' P\n",
    "True Negative N N'\n",
    "Accuracy, \n",
    "Sensibility\n",
    "Precision\n"
   ]
  },
  {
   "cell_type": "code",
   "execution_count": null,
   "metadata": {},
   "outputs": [],
   "source": [
    "Discrete variable vs Continuous variable"
   ]
  },
  {
   "cell_type": "markdown",
   "metadata": {},
   "source": [
    "### Regression analysis"
   ]
  },
  {
   "cell_type": "markdown",
   "metadata": {},
   "source": [
    "** Used when comparing the behavior of  quantitative data, based on quantitative data.**"
   ]
  },
  {
   "cell_type": "markdown",
   "metadata": {},
   "source": [
    " X and Y are continuous variables\n",
    " \n",
    " $y= \\beta_0+\\beta_1 X$\n",
    " \n",
    " \n",
    " \n",
    "$e_i $=$ Y_i -\\hat{y_i}$\n",
    "\n",
    "\n"
   ]
  },
  {
   "cell_type": "markdown",
   "metadata": {},
   "source": [
    "In statistics and machine learning we must have a balance between the bias and variance, to fit in the predictive model.\n",
    "The regression analysis sometimes is not the best model to your sample, then you'll have to set up new parameters, adjusting your data to improve your prediction rate. (*over-fitting* : An over-fitted data don't perform good on Cross Validation)"
   ]
  },
  {
   "cell_type": "markdown",
   "metadata": {},
   "source": [
    "### Classification Analysis"
   ]
  },
  {
   "cell_type": "markdown",
   "metadata": {},
   "source": [
    "To describe categorical variable through discrete variables.\n",
    "Classification analysis has the objective to predict a categorical answer Y through predictor variable ZX\n",
    "- Codificate the analysis in binary classification\n",
    "- To describe data that doesn't fit to a linear model\n",
    "\n",
    "$Pr(y=1|X) = \\frac {1}{1 + e^(\\beta0+\\beta_1 X)}$\n",
    "\n",
    "Maximum likelihood\n",
    "Linear discriminant analysis \n",
    "Project a data set in a smaller dimensioned space tha maximizes the variance between classes and minimize distance inside classes\n",
    "\n",
    "Variance within the groups has to be low\n",
    "Variance between groups has to be high"
   ]
  },
  {
   "cell_type": "markdown",
   "metadata": {},
   "source": [
    "K- Nearest Neighbors Intends to classify an unknown sample based on the known classification of another sample (The nearest)\n",
    "\n",
    "Distance (Dissimilarity) \n",
    "\n",
    "- Euclidean distance, between our data points on space, obtained by the Pithagorean theorem.\n",
    "- Algorithm, \n",
    "\n"
   ]
  },
  {
   "cell_type": "markdown",
   "metadata": {},
   "source": [
    "### Clustering analysis - Dimensionality reduction\n",
    "\n",
    "**Used when you want to do analysis of the behavior of qualitative (categorical) data based on quantitative data**\n",
    "\n",
    "Non-labeled variables\n",
    "\n",
    "**Hierarquical clustering**\n",
    "\n",
    "External isolation between groups and Internal coesion between group members:\n",
    "- How close are the members whithin a group?\n",
    "\n"
   ]
  },
  {
   "cell_type": "markdown",
   "metadata": {},
   "source": [
    "**Principal component analysis** - Reduction of dimensionality \n",
    "- Transforms variables correlationed in another set of non-corresponded variables\n",
    "- Projections direction maximizes projected object variance\n",
    "\n",
    "> \"Such dimensionality reduction can be a very useful step for visualising and processing high-dimensional datasets, while still retaining as much of the variance in the dataset as possible.\"\n",
    "    "
   ]
  },
  {
   "cell_type": "markdown",
   "metadata": {},
   "source": [
    "*Dissimilarity matrices* Binary-distanced data, Euclidean distance\n",
    "$ d_ij = [\\sum_{k=1}^{p} (x_jk - xjk)^{2}]^{1/2}$\n"
   ]
  },
  {
   "cell_type": "code",
   "execution_count": null,
   "metadata": {},
   "outputs": [],
   "source": []
  }
 ],
 "metadata": {
  "kernelspec": {
   "display_name": "Python 3",
   "language": "python",
   "name": "python3"
  },
  "language_info": {
   "codemirror_mode": {
    "name": "ipython",
    "version": 3
   },
   "file_extension": ".py",
   "mimetype": "text/x-python",
   "name": "python",
   "nbconvert_exporter": "python",
   "pygments_lexer": "ipython3",
   "version": "3.6.7"
  }
 },
 "nbformat": 4,
 "nbformat_minor": 2
}
