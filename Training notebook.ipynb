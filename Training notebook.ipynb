{
 "cells": [
  {
   "cell_type": "markdown",
   "metadata": {},
   "source": [
    "##  1- Introduction to Jupyter Notebooks\n",
    " Jupyter notebook is an environment where you can use different source languages combined. To change the purpose of a cell from \"code\" to \"markdown\" you can go in the menu from the upper tab."
   ]
  },
  {
   "cell_type": "markdown",
   "metadata": {},
   "source": [
    "Using the command `alt-enter` you get a new cell \n",
    "`shift-enter` to execute your command and create a next cell.\n",
    "`ctrl+enter` executes your cell, maintaining your cursor on the same cell. "
   ]
  },
  {
   "cell_type": "markdown",
   "metadata": {},
   "source": [
    "The first exercise will be using the command `print`; where you can print a phrase in a code cell. for that use `print(\"yourphrase\")`"
   ]
  },
  {
   "cell_type": "code",
   "execution_count": 1,
   "metadata": {},
   "outputs": [
    {
     "name": "stdout",
     "output_type": "stream",
     "text": [
      "I think it is going to rain!\n"
     ]
    }
   ],
   "source": [
    "print(\"I think it is going to rain!\")"
   ]
  },
  {
   "cell_type": "markdown",
   "metadata": {},
   "source": [
    "With `nameofobject?` such as `import collections\n",
    "collections.namedtuple?` you get info and docstrings about your imput command."
   ]
  },
  {
   "cell_type": "markdown",
   "metadata": {},
   "source": [
    "To obtain quick references about IPython use `%quickref`"
   ]
  },
  {
   "cell_type": "code",
   "execution_count": 3,
   "metadata": {},
   "outputs": [],
   "source": [
    "%quickref"
   ]
  },
  {
   "cell_type": "markdown",
   "metadata": {},
   "source": [
    "When you intend to call a function, you can use the auto-complete tool in a code cell, just start typing a known function then press **Tab** button on your keyboard, it will get you automatically your function or a list of functions starting with the same letters of your function."
   ]
  },
  {
   "cell_type": "markdown",
   "metadata": {},
   "source": [
    "Imputing mathematical functions:\n"
   ]
  },
  {
   "cell_type": "code",
   "execution_count": 4,
   "metadata": {},
   "outputs": [
    {
     "data": {
      "text/plain": [
       "2168"
      ]
     },
     "execution_count": 4,
     "metadata": {},
     "output_type": "execute_result"
    }
   ],
   "source": [
    "2154+14"
   ]
  },
  {
   "cell_type": "markdown",
   "metadata": {},
   "source": [
    "Calling previous output with `_` symbol. You can add double `__` or triple `___` to call an earlier output (\"next previous\")"
   ]
  },
  {
   "cell_type": "code",
   "execution_count": 6,
   "metadata": {},
   "outputs": [
    {
     "data": {
      "text/plain": [
       "2168"
      ]
     },
     "execution_count": 6,
     "metadata": {},
     "output_type": "execute_result"
    }
   ],
   "source": [
    "_"
   ]
  },
  {
   "cell_type": "code",
   "execution_count": 14,
   "metadata": {
    "scrolled": true
   },
   "outputs": [
    {
     "data": {
      "text/plain": [
       "2168000000000"
      ]
     },
     "execution_count": 14,
     "metadata": {},
     "output_type": "execute_result"
    }
   ],
   "source": [
    "__*1000"
   ]
  },
  {
   "cell_type": "markdown",
   "metadata": {},
   "source": [
    "Using `;` after your argument command suppresses your functions, and you can trace it back later using `_`. ***OBSERVATION: you must obtain your output first, before supressing it, if you don't, your function won't traceback your previous output correctly***"
   ]
  },
  {
   "cell_type": "code",
   "execution_count": 17,
   "metadata": {},
   "outputs": [],
   "source": [
    "58445+8787;"
   ]
  },
  {
   "cell_type": "code",
   "execution_count": 19,
   "metadata": {},
   "outputs": [
    {
     "data": {
      "text/plain": [
       "37232"
      ]
     },
     "execution_count": 19,
     "metadata": {},
     "output_type": "execute_result"
    }
   ],
   "source": [
    "_-10000"
   ]
  },
  {
   "cell_type": "code",
   "execution_count": 22,
   "metadata": {},
   "outputs": [],
   "source": [
    "139*139;"
   ]
  },
  {
   "cell_type": "code",
   "execution_count": 21,
   "metadata": {},
   "outputs": [
    {
     "data": {
      "text/plain": [
       "56553"
      ]
     },
     "execution_count": 21,
     "metadata": {},
     "output_type": "execute_result"
    }
   ],
   "source": [
    "_+__"
   ]
  },
  {
   "cell_type": "markdown",
   "metadata": {},
   "source": [
    "You can manage your *Non-suppressed* outputs using the `Out[N]` onde N is the number of your command line, from where you obtained your output. Similary, you can manage your inputs with `In[N]`. If you want to obtain your suppressed outputs, you must know in which line it was obtained. "
   ]
  },
  {
   "cell_type": "code",
   "execution_count": 50,
   "metadata": {},
   "outputs": [
    {
     "data": {
      "text/plain": [
       "19321"
      ]
     },
     "execution_count": 50,
     "metadata": {},
     "output_type": "execute_result"
    }
   ],
   "source": [
    "# Obtaining a suppressed output\n",
    "Out[20]"
   ]
  },
  {
   "cell_type": "code",
   "execution_count": 40,
   "metadata": {},
   "outputs": [
    {
     "data": {
      "text/plain": [
       "37232"
      ]
     },
     "execution_count": 40,
     "metadata": {},
     "output_type": "execute_result"
    }
   ],
   "source": [
    "Out[19]"
   ]
  },
  {
   "cell_type": "code",
   "execution_count": 53,
   "metadata": {},
   "outputs": [
    {
     "data": {
      "text/plain": [
       "'139*139;'"
      ]
     },
     "execution_count": 53,
     "metadata": {},
     "output_type": "execute_result"
    }
   ],
   "source": [
    "In[22]"
   ]
  },
  {
   "cell_type": "code",
   "execution_count": 57,
   "metadata": {},
   "outputs": [
    {
     "data": {
      "text/plain": [
       "8.91190036900369"
      ]
     },
     "execution_count": 57,
     "metadata": {},
     "output_type": "execute_result"
    }
   ],
   "source": [
    "# Now I'm trying to do math with the desired outputs;\n",
    "Out[20]/Out[6]"
   ]
  },
  {
   "cell_type": "code",
   "execution_count": 59,
   "metadata": {},
   "outputs": [
    {
     "data": {
      "text/plain": [
       "66553"
      ]
     },
     "execution_count": 59,
     "metadata": {},
     "output_type": "execute_result"
    }
   ],
   "source": [
    "Out[20]+Out[19]+10000\n"
   ]
  },
  {
   "cell_type": "code",
   "execution_count": 60,
   "metadata": {},
   "outputs": [
    {
     "data": {
      "text/plain": [
       "565530"
      ]
     },
     "execution_count": 60,
     "metadata": {},
     "output_type": "execute_result"
    }
   ],
   "source": [
    "Out[21]*10"
   ]
  },
  {
   "cell_type": "markdown",
   "metadata": {},
   "source": [
    "To see a history of your code insertions, use the *magic* function `%history`; You can choose your desired specific lines with `%history -n x-y`"
   ]
  },
  {
   "cell_type": "code",
   "execution_count": 52,
   "metadata": {},
   "outputs": [
    {
     "name": "stdout",
     "output_type": "stream",
     "text": [
      "print(\"I think it is going to rain!\")\n",
      "%quickref\n",
      "%quickref\n",
      "2154+14\n",
      "_\n",
      "_\n",
      "__*1000\n",
      "__*1000\n",
      "124+1814;\n",
      "_\n",
      "___\n",
      "__*1000\n",
      "__*1000\n",
      "__*1000\n",
      "58445+8787\n",
      "_-10000\n",
      "58445+8787;\n",
      "_-10000\n",
      "_-10000\n",
      "139*139\n",
      "_+__\n",
      "139*139;\n",
      "___\n",
      "__\n",
      "_\n",
      "__\n",
      "___\n",
      "__\n",
      "___\n",
      "___\n",
      "out[22]\n",
      "=out[22]\n",
      "Out[19]\n",
      "Out[22]\n",
      "Out[21]\n",
      "_=Out[22]\n",
      "_[22]==Out[22]\n",
      "Out[17]\n",
      "Out[19]\n",
      "Out[19]\n",
      "In[22]\n",
      "In[22]\n",
      "-i=\n",
      "-i\n",
      "_i=\n",
      "_i\n",
      "%history\n",
      "%history -n 17-22\n",
      "In[22]\n",
      "# Obtaining a suppressed output\n",
      "Out[20]\n",
      "In[22]\n",
      "%history\n"
     ]
    }
   ],
   "source": [
    "%history"
   ]
  },
  {
   "cell_type": "code",
   "execution_count": 48,
   "metadata": {},
   "outputs": [
    {
     "name": "stdout",
     "output_type": "stream",
     "text": [
      "  17: 58445+8787;\n",
      "  18: _-10000\n",
      "  19: _-10000\n",
      "  20: 139*139\n",
      "  21: _+__\n",
      "  22: 139*139;\n"
     ]
    }
   ],
   "source": [
    "%history -n 17-22"
   ]
  },
  {
   "cell_type": "markdown",
   "metadata": {},
   "source": [
    "## Accessing your Jupyter Files"
   ]
  },
  {
   "cell_type": "markdown",
   "metadata": {},
   "source": [
    "Through your notebook you are able to access your Jupyter files without leaving your command cell. With `!pwd` command, you can return the current working directory path."
   ]
  },
  {
   "cell_type": "code",
   "execution_count": 2,
   "metadata": {},
   "outputs": [
    {
     "name": "stdout",
     "output_type": "stream",
     "text": [
      "/home/herbarium\r\n"
     ]
    }
   ],
   "source": [
    "!pwd "
   ]
  },
  {
   "cell_type": "markdown",
   "metadata": {},
   "source": [
    "You define a name for your listing function with \"=\" symbol. The listing function/command is `!ls` with a `.` inserted next, you are accessing the listing on your current file. Then you are able to call your listing function using `print(nameofyfunction)` in this case, the name of your function will be **banana** for your home page directory and  **files** when accessing files from another directory."
   ]
  },
  {
   "cell_type": "code",
   "execution_count": 11,
   "metadata": {},
   "outputs": [
    {
     "name": "stdout",
     "output_type": "stream",
     "text": [
      "['Training notebook.ipynb', 'notebooks']\n"
     ]
    }
   ],
   "source": [
    "banana = !ls . \n",
    "print(banana)"
   ]
  },
  {
   "cell_type": "code",
   "execution_count": 16,
   "metadata": {
    "scrolled": true
   },
   "outputs": [
    {
     "name": "stdout",
     "output_type": "stream",
     "text": [
      "['0-Index.ipynb', '1-Introduction_to_Jupyter_Platform-Copy1.ipynb', '1-Introduction_to_Jupyter_Platform.ipynb', '2-Introduction_to_python_programming_language.ipynb', '2.1-Data_Structures.ipynb', '2.2-Logical_Operations.ipynb', '2.3-Control_Structures.ipynb', '2.4-Functions.ipynb', '3-NumPy_Library.ipynb', '4-Pandas_Library.ipynb', '5-Scikit-Learn_Library.ipynb', '6-Regression_Analysis.ipynb', '7-Classification_Analysis.ipynb', '8-Cluster_Analysis.ipynb', 'dados', 'figuras', 'log.py', 'short-tutorial.ipynb']\n"
     ]
    }
   ],
   "source": [
    "files = !ls /home/herbarium/notebooks/\n",
    "print(files)"
   ]
  },
  {
   "cell_type": "markdown",
   "metadata": {},
   "source": [
    "With `!echo` command, you can call back your named directories, listing the files inside of it."
   ]
  },
  {
   "cell_type": "code",
   "execution_count": 14,
   "metadata": {},
   "outputs": [
    {
     "name": "stdout",
     "output_type": "stream",
     "text": [
      "[Training notebook.ipynb, notebooks]\r\n"
     ]
    }
   ],
   "source": [
    "!echo $banana"
   ]
  },
  {
   "cell_type": "code",
   "execution_count": 18,
   "metadata": {},
   "outputs": [
    {
     "name": "stdout",
     "output_type": "stream",
     "text": [
      "[0-Index.ipynb, 1-Introduction_to_Jupyter_Platform-Copy1.ipynb, 1-Introduction_to_Jupyter_Platform.ipynb, 2-Introduction_to_python_programming_language.ipynb, 2.1-Data_Structures.ipynb, 2.2-Logical_Operations.ipynb, 2.3-Control_Structures.ipynb, 2.4-Functions.ipynb, 3-NumPy_Library.ipynb, 4-Pandas_Library.ipynb, 5-Scikit-Learn_Library.ipynb, 6-Regression_Analysis.ipynb, 7-Classification_Analysis.ipynb, 8-Cluster_Analysis.ipynb, dados, figuras, log.py, short-tutorial.ipynb]\r\n"
     ]
    }
   ],
   "source": [
    "!echo $files"
   ]
  },
  {
   "cell_type": "code",
   "execution_count": 22,
   "metadata": {},
   "outputs": [
    {
     "name": "stdout",
     "output_type": "stream",
     "text": [
      "0-Index.ipynb\r\n"
     ]
    }
   ],
   "source": [
    "!echo {files[0]}"
   ]
  },
  {
   "cell_type": "markdown",
   "metadata": {},
   "source": [
    "Changing your current working directory directly from the command line allows you to easily create or make alterations in the files. Use `%cd directorypathway`"
   ]
  },
  {
   "cell_type": "code",
   "execution_count": 32,
   "metadata": {},
   "outputs": [
    {
     "name": "stdout",
     "output_type": "stream",
     "text": [
      "/home/herbarium\n"
     ]
    }
   ],
   "source": [
    "%cd /home/herbarium/"
   ]
  },
  {
   "cell_type": "code",
   "execution_count": 33,
   "metadata": {},
   "outputs": [
    {
     "name": "stdout",
     "output_type": "stream",
     "text": [
      "['Training notebook.ipynb', 'notebooks']\n"
     ]
    }
   ],
   "source": [
    "files = !ls .\n",
    "print(files)"
   ]
  },
  {
   "cell_type": "markdown",
   "metadata": {},
   "source": [
    "Creating a new directory `%mkdir nameofdirectory`"
   ]
  },
  {
   "cell_type": "code",
   "execution_count": null,
   "metadata": {},
   "outputs": [],
   "source": [
    "#I'VE CREATED A DIRECTORY NAMED herbariumtestdir"
   ]
  },
  {
   "cell_type": "markdown",
   "metadata": {},
   "source": [
    "Another way to interact with your notebook directory is creating files right from the command line. Use the magic function `%%writefile nameofthefile.extension` . Text files can be written there, too."
   ]
  },
  {
   "cell_type": "code",
   "execution_count": 55,
   "metadata": {},
   "outputs": [
    {
     "name": "stdout",
     "output_type": "stream",
     "text": [
      "Overwriting herbariumtest.txt\n"
     ]
    }
   ],
   "source": [
    "%%writefile herbariumtest.txt\n",
    "\n",
    "A test testing text texting"
   ]
  },
  {
   "cell_type": "code",
   "execution_count": 41,
   "metadata": {},
   "outputs": [
    {
     "name": "stdout",
     "output_type": "stream",
     "text": [
      "['Training notebook.ipynb', 'herbariumtest.txt', 'herbariumtestdir', 'notebooks']\n"
     ]
    }
   ],
   "source": [
    "files = !ls . \n",
    "print(files)"
   ]
  },
  {
   "cell_type": "markdown",
   "metadata": {},
   "source": [
    "Next, you can move files using `%mv file directory`"
   ]
  },
  {
   "cell_type": "code",
   "execution_count": 43,
   "metadata": {},
   "outputs": [
    {
     "name": "stdout",
     "output_type": "stream",
     "text": [
      "mv: cannot stat 'herbariumtest.txt': No such file or directory\r\n"
     ]
    }
   ],
   "source": [
    "%mv herbariumtest.txt herbariumtestdir/"
   ]
  },
  {
   "cell_type": "code",
   "execution_count": 45,
   "metadata": {},
   "outputs": [
    {
     "name": "stdout",
     "output_type": "stream",
     "text": [
      "['Training notebook.ipynb', 'herbariumtestdir', 'notebooks']\n"
     ]
    }
   ],
   "source": [
    "files =!ls . \n",
    "print(files)"
   ]
  },
  {
   "cell_type": "markdown",
   "metadata": {},
   "source": [
    "Confirming the moved file, checking what is in the directory."
   ]
  },
  {
   "cell_type": "code",
   "execution_count": 46,
   "metadata": {},
   "outputs": [
    {
     "name": "stdout",
     "output_type": "stream",
     "text": [
      "/home/herbarium/herbariumtestdir\n"
     ]
    }
   ],
   "source": [
    "%cd herbariumtestdir/"
   ]
  },
  {
   "cell_type": "code",
   "execution_count": 50,
   "metadata": {},
   "outputs": [
    {
     "name": "stdout",
     "output_type": "stream",
     "text": [
      "['herbariumtest.txt']\n"
     ]
    }
   ],
   "source": [
    "files =!ls .\n",
    "print(files)"
   ]
  },
  {
   "cell_type": "markdown",
   "metadata": {},
   "source": [
    "The `!cat` lists the contents of your text."
   ]
  },
  {
   "cell_type": "code",
   "execution_count": 56,
   "metadata": {},
   "outputs": [
    {
     "name": "stdout",
     "output_type": "stream",
     "text": [
      "\r\n",
      "A test testing text texting\r\n"
     ]
    }
   ],
   "source": [
    "!cat herbariumtest.txt\n"
   ]
  },
  {
   "cell_type": "markdown",
   "metadata": {},
   "source": [
    "## 2- Introduction to Python Programming Language"
   ]
  },
  {
   "cell_type": "markdown",
   "metadata": {},
   "source": [
    "### Data structures "
   ]
  },
  {
   "cell_type": "markdown",
   "metadata": {},
   "source": [
    "**Variables** are a referential object for which a value is attributed.\n",
    "Variables are inputed as `variable = value`\n",
    "\n",
    " - They are case sensitive\n",
    " - They can not contain blank spaces\n",
    " \n",
    "  \n",
    "\n"
   ]
  },
  {
   "cell_type": "code",
   "execution_count": 9,
   "metadata": {},
   "outputs": [
    {
     "name": "stdout",
     "output_type": "stream",
     "text": [
      "2114 5487 NikolaTesla 11599518\n"
     ]
    }
   ],
   "source": [
    "x = 2114\n",
    "y = 5487\n",
    "xy = \"NikolaTesla\"\n",
    "z = x*y\n",
    "print(x,y,xy,z)"
   ]
  },
  {
   "cell_type": "markdown",
   "metadata": {},
   "source": [
    "Supporting many possible inputs, you can see the type of your input using `type(variable)` function\n"
   ]
  },
  {
   "cell_type": "code",
   "execution_count": 16,
   "metadata": {},
   "outputs": [
    {
     "data": {
      "text/plain": [
       "int"
      ]
     },
     "execution_count": 16,
     "metadata": {},
     "output_type": "execute_result"
    }
   ],
   "source": [
    "type(x)"
   ]
  },
  {
   "cell_type": "markdown",
   "metadata": {},
   "source": [
    "`int` indicates your imput is an integer number."
   ]
  },
  {
   "cell_type": "code",
   "execution_count": 17,
   "metadata": {},
   "outputs": [
    {
     "data": {
      "text/plain": [
       "float"
      ]
     },
     "execution_count": 17,
     "metadata": {},
     "output_type": "execute_result"
    }
   ],
   "source": [
    "n = 0.269\n",
    "type(n)"
   ]
  },
  {
   "cell_type": "markdown",
   "metadata": {},
   "source": [
    "`float` indicates your imput type is a floating point (fraction)"
   ]
  },
  {
   "cell_type": "code",
   "execution_count": 18,
   "metadata": {},
   "outputs": [
    {
     "data": {
      "text/plain": [
       "str"
      ]
     },
     "execution_count": 18,
     "metadata": {},
     "output_type": "execute_result"
    }
   ],
   "source": [
    "type(xy)"
   ]
  },
  {
   "cell_type": "code",
   "execution_count": 20,
   "metadata": {},
   "outputs": [
    {
     "data": {
      "text/plain": [
       "str"
      ]
     },
     "execution_count": 20,
     "metadata": {},
     "output_type": "execute_result"
    }
   ],
   "source": [
    "my_name = \"Pedro\"\n",
    "type(my_name)"
   ]
  },
  {
   "cell_type": "code",
   "execution_count": 21,
   "metadata": {},
   "outputs": [
    {
     "data": {
      "text/plain": [
       "('P', 'dro')"
      ]
     },
     "execution_count": 21,
     "metadata": {},
     "output_type": "execute_result"
    }
   ],
   "source": [
    "my_name[0], my_name[2:5]"
   ]
  },
  {
   "cell_type": "code",
   "execution_count": 25,
   "metadata": {},
   "outputs": [
    {
     "data": {
      "text/plain": [
       "'Pedro sabão'"
      ]
     },
     "execution_count": 25,
     "metadata": {},
     "output_type": "execute_result"
    }
   ],
   "source": [
    "my_name + \" sabão\""
   ]
  },
  {
   "cell_type": "markdown",
   "metadata": {},
   "source": [
    "Boolean data type is a logical function, where your output has one of two possible values, defined later as `True` or `False`"
   ]
  },
  {
   "cell_type": "code",
   "execution_count": 28,
   "metadata": {},
   "outputs": [
    {
     "data": {
      "text/plain": [
       "(False, bool)"
      ]
     },
     "execution_count": 28,
     "metadata": {},
     "output_type": "execute_result"
    }
   ],
   "source": [
    "error = 1.6\n",
    "compare_value = error < 0.1\n",
    "compare_value, type(compare_value)"
   ]
  },
  {
   "cell_type": "code",
   "execution_count": 31,
   "metadata": {},
   "outputs": [
    {
     "data": {
      "text/plain": [
       "True"
      ]
     },
     "execution_count": 31,
     "metadata": {},
     "output_type": "execute_result"
    }
   ],
   "source": [
    "error > 0"
   ]
  },
  {
   "cell_type": "markdown",
   "metadata": {},
   "source": [
    "**Type conversion**"
   ]
  },
  {
   "cell_type": "markdown",
   "metadata": {},
   "source": [
    " - No conversion"
   ]
  },
  {
   "cell_type": "code",
   "execution_count": 39,
   "metadata": {},
   "outputs": [
    {
     "data": {
      "text/plain": [
       "(str, str, str)"
      ]
     },
     "execution_count": 39,
     "metadata": {},
     "output_type": "execute_result"
    }
   ],
   "source": [
    "s1 = \"Hey Kitty Girl!\"\n",
    "s2 = \" It's your world!\"\n",
    "s1 + s2\n",
    "type(s1), type(s2), type(s1 + s2)"
   ]
  },
  {
   "cell_type": "markdown",
   "metadata": {},
   "source": [
    " - Conversion (int to float)"
   ]
  },
  {
   "cell_type": "code",
   "execution_count": 42,
   "metadata": {},
   "outputs": [
    {
     "data": {
      "text/plain": [
       "(int, float, float)"
      ]
     },
     "execution_count": 42,
     "metadata": {},
     "output_type": "execute_result"
    }
   ],
   "source": [
    "a = 3\n",
    "b = 14.78\n",
    "c = a+b\n",
    "type(a), type(b), type(c)"
   ]
  },
  {
   "cell_type": "markdown",
   "metadata": {},
   "source": [
    "A way of mixing numbers and characters is changing your number type to `str` type, using `str(n)`"
   ]
  },
  {
   "cell_type": "code",
   "execution_count": 44,
   "metadata": {},
   "outputs": [
    {
     "data": {
      "text/plain": [
       "'Hey Kitty Girl!32745'"
      ]
     },
     "execution_count": 44,
     "metadata": {},
     "output_type": "execute_result"
    }
   ],
   "source": [
    "s1 + str(32745)"
   ]
  },
  {
   "cell_type": "markdown",
   "metadata": {},
   "source": [
    "**Listing**\n",
    "You can start a list with a bracket.\n",
    " \n",
    " - `%int` for integer numbers\n",
    " - `%str` for string value\n",
    " - `%len` return the number of items in a container.\n",
    " - In python the first number when counting is 0 and the last is -1\n",
    " - You can change the signifying algarisms of your \"function variable\" `%f` by adding the number of signifying algarisms you want `%.1f` `%.2f` `%.3f`, etc"
   ]
  },
  {
   "cell_type": "code",
   "execution_count": 60,
   "metadata": {},
   "outputs": [
    {
     "name": "stdout",
     "output_type": "stream",
     "text": [
      "The size of the list is : 5\n",
      "The fourth element of the list is: 4tr\n",
      "The last element of the list is: 5tr\n",
      "The sum of our list is 15.000000\n",
      "Altering magic function of signifying algarisms 15.0\n"
     ]
    }
   ],
   "source": [
    "test_list = [1, 2, 3, 4, 5]\n",
    "print( \"The size of the list is : %i\"% (len(test_list)) )\n",
    "print( \"The fourth element of the list is: %str\"% (test_list[3]))\n",
    "print( \"The last element of the list is: %str\"% (test_list[-1]))\n",
    "print( \"The sum of our list is %f\" %(sum(test_list)))\n",
    "print( \"Altering magic function of signifying algarisms %.1f\" %(sum(test_list)))"
   ]
  },
  {
   "cell_type": "markdown",
   "metadata": {},
   "source": [
    "List with diffrent imput types:"
   ]
  },
  {
   "cell_type": "code",
   "execution_count": 75,
   "metadata": {},
   "outputs": [
    {
     "data": {
      "text/plain": [
       "[20, True, 'bom', 'bom']"
      ]
     },
     "execution_count": 75,
     "metadata": {},
     "output_type": "execute_result"
    }
   ],
   "source": [
    "a_list = [20, True, \"bom\", \"bom\"]\n",
    "a_list"
   ]
  },
  {
   "cell_type": "markdown",
   "metadata": {},
   "source": [
    "*Altering a list*"
   ]
  },
  {
   "cell_type": "markdown",
   "metadata": {},
   "source": [
    "`%nameofoyourlist.pop(n)` removes the number indicated by it's reference index. "
   ]
  },
  {
   "cell_type": "code",
   "execution_count": 76,
   "metadata": {},
   "outputs": [
    {
     "name": "stdout",
     "output_type": "stream",
     "text": [
      "[1, 2, 3, 10, 10]\n",
      "pop 10 number is out of the list\n",
      "[1, 2, 3, 10]\n"
     ]
    }
   ],
   "source": [
    "print(test_list)\n",
    "print(\"pop %i number is out of the list\"%test_list.pop(3))\n",
    "print(test_list)"
   ]
  },
  {
   "cell_type": "markdown",
   "metadata": {},
   "source": [
    "`nameofyourlist.remove` removes the first value identical as the specified."
   ]
  },
  {
   "cell_type": "code",
   "execution_count": 77,
   "metadata": {},
   "outputs": [
    {
     "name": "stdout",
     "output_type": "stream",
     "text": [
      "[20, True, 'bom']\n"
     ]
    }
   ],
   "source": [
    "a_list.remove(\"bom\")\n",
    "print(a_list)"
   ]
  },
  {
   "cell_type": "markdown",
   "metadata": {},
   "source": [
    "`nameofyourlist.append` includes a single value in your function"
   ]
  },
  {
   "cell_type": "code",
   "execution_count": 79,
   "metadata": {},
   "outputs": [
    {
     "name": "stdout",
     "output_type": "stream",
     "text": [
      "[1, 2, 3, 10, 5]\n",
      "[1, 2, 3, 10, 5, 5]\n"
     ]
    }
   ],
   "source": [
    "print(test_list)\n",
    "test_list.append (5)\n",
    "print(test_list)"
   ]
  },
  {
   "cell_type": "markdown",
   "metadata": {},
   "source": [
    "List merging `firstlist.extend(secondlist)` or you can merge them using `first list + second list`"
   ]
  },
  {
   "cell_type": "code",
   "execution_count": 81,
   "metadata": {},
   "outputs": [
    {
     "name": "stdout",
     "output_type": "stream",
     "text": [
      "[1, 2, 3, 10, 5, 5, [20, True, 'bom'], [20, True, 'bom']]\n"
     ]
    }
   ],
   "source": [
    "test_list.append(a_list)\n",
    "print(test_list)"
   ]
  },
  {
   "cell_type": "code",
   "execution_count": 82,
   "metadata": {},
   "outputs": [
    {
     "data": {
      "text/plain": [
       "[1, 2, 3, 10, 5, 5, [20, True, 'bom'], [20, True, 'bom'], 20, True, 'bom']"
      ]
     },
     "execution_count": 82,
     "metadata": {},
     "output_type": "execute_result"
    }
   ],
   "source": [
    "test_list + a_list"
   ]
  },
  {
   "cell_type": "code",
   "execution_count": null,
   "metadata": {},
   "outputs": [],
   "source": []
  }
 ],
 "metadata": {
  "kernelspec": {
   "display_name": "Python 3",
   "language": "python",
   "name": "python3"
  },
  "language_info": {
   "codemirror_mode": {
    "name": "ipython",
    "version": 3
   },
   "file_extension": ".py",
   "mimetype": "text/x-python",
   "name": "python",
   "nbconvert_exporter": "python",
   "pygments_lexer": "ipython3",
   "version": "3.6.7"
  }
 },
 "nbformat": 4,
 "nbformat_minor": 2
}
