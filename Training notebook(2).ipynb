{
 "cells": [
  {
   "cell_type": "markdown",
   "metadata": {},
   "source": [
    "## Introduction to jupyter notebooks\n",
    " This first excercise is the modification to your cell to a \"markdown\" cell, where you can freely write or insert images."
   ]
  },
  {
   "cell_type": "markdown",
   "metadata": {},
   "source": [
    "Using the command `alt-enter` you get a new cell \n",
    "`shift-enter` to execute your command and create a next cell.\n",
    "`ctrl+enter` executes your cell, maintaining your cursor on the same cell. "
   ]
  },
  {
   "cell_type": "markdown",
   "metadata": {},
   "source": [
    "The first exercise will be using the command `print`; where you can print a phrase in a code cell. for that use `print(\"yourphrase\")`"
   ]
  },
  {
   "cell_type": "code",
   "execution_count": 1,
   "metadata": {},
   "outputs": [
    {
     "name": "stdout",
     "output_type": "stream",
     "text": [
      "I think it is going to rain!\n"
     ]
    }
   ],
   "source": [
    "print(\"I think it is going to rain!\")"
   ]
  },
  {
   "cell_type": "markdown",
   "metadata": {},
   "source": [
    "With `nameofobject?` such as `import collections\n",
    "collections.namedtuple?` you get info and docstrings about your imput command."
   ]
  },
  {
   "cell_type": "markdown",
   "metadata": {},
   "source": [
    "To obtain quick references about IPython use `%quickref`"
   ]
  },
  {
   "cell_type": "code",
   "execution_count": 3,
   "metadata": {},
   "outputs": [],
   "source": [
    "%quickref"
   ]
  },
  {
   "cell_type": "markdown",
   "metadata": {},
   "source": [
    "When you intend to call a function, you can use the auto-complete tool in a code cell, just start typing a known function then press **Tab** button on your keyboard, it will get you automatically your function or a list of functions starting with the same letters of your function."
   ]
  },
  {
   "cell_type": "markdown",
   "metadata": {},
   "source": [
    "Imputing mathematical functions:\n"
   ]
  },
  {
   "cell_type": "code",
   "execution_count": 4,
   "metadata": {},
   "outputs": [
    {
     "data": {
      "text/plain": [
       "2168"
      ]
     },
     "execution_count": 4,
     "metadata": {},
     "output_type": "execute_result"
    }
   ],
   "source": [
    "2154+14"
   ]
  },
  {
   "cell_type": "markdown",
   "metadata": {},
   "source": [
    "Calling previous output with `_` symbol. You can add double `__` or triple `___` to call an earlier output (\"next previous\")"
   ]
  },
  {
   "cell_type": "code",
   "execution_count": 6,
   "metadata": {},
   "outputs": [
    {
     "data": {
      "text/plain": [
       "2168"
      ]
     },
     "execution_count": 6,
     "metadata": {},
     "output_type": "execute_result"
    }
   ],
   "source": [
    "_"
   ]
  },
  {
   "cell_type": "code",
   "execution_count": 14,
   "metadata": {
    "scrolled": true
   },
   "outputs": [
    {
     "data": {
      "text/plain": [
       "2168000000000"
      ]
     },
     "execution_count": 14,
     "metadata": {},
     "output_type": "execute_result"
    }
   ],
   "source": [
    "__*1000"
   ]
  },
  {
   "cell_type": "markdown",
   "metadata": {},
   "source": [
    "Using `;` after your argument command suppresses your functions, and you can trace it back later using `_`. ***OBSERVATION: you must obtain your output first, before supressing it, if you don't, your function won't traceback your previous output correctly***"
   ]
  },
  {
   "cell_type": "code",
   "execution_count": 17,
   "metadata": {},
   "outputs": [],
   "source": [
    "58445+8787;"
   ]
  },
  {
   "cell_type": "code",
   "execution_count": 19,
   "metadata": {},
   "outputs": [
    {
     "data": {
      "text/plain": [
       "37232"
      ]
     },
     "execution_count": 19,
     "metadata": {},
     "output_type": "execute_result"
    }
   ],
   "source": [
    "_-10000"
   ]
  },
  {
   "cell_type": "code",
   "execution_count": 22,
   "metadata": {},
   "outputs": [],
   "source": [
    "139*139;"
   ]
  },
  {
   "cell_type": "code",
   "execution_count": 21,
   "metadata": {},
   "outputs": [
    {
     "data": {
      "text/plain": [
       "56553"
      ]
     },
     "execution_count": 21,
     "metadata": {},
     "output_type": "execute_result"
    }
   ],
   "source": [
    "_+__"
   ]
  },
  {
   "cell_type": "markdown",
   "metadata": {},
   "source": [
    "You can manage your *Non-suppressed* outputs using the `Out[N]` onde N is the number of your command line, from where you obtained your output. Similary, you can manage your inputs with `In[N]`. If you want to obtain your suppressed outputs, you must know in which line it was obtained. "
   ]
  },
  {
   "cell_type": "code",
   "execution_count": 50,
   "metadata": {},
   "outputs": [
    {
     "data": {
      "text/plain": [
       "19321"
      ]
     },
     "execution_count": 50,
     "metadata": {},
     "output_type": "execute_result"
    }
   ],
   "source": [
    "# Obtaining a suppressed output\n",
    "Out[20]"
   ]
  },
  {
   "cell_type": "code",
   "execution_count": 40,
   "metadata": {},
   "outputs": [
    {
     "data": {
      "text/plain": [
       "37232"
      ]
     },
     "execution_count": 40,
     "metadata": {},
     "output_type": "execute_result"
    }
   ],
   "source": [
    "Out[19]"
   ]
  },
  {
   "cell_type": "code",
   "execution_count": 53,
   "metadata": {},
   "outputs": [
    {
     "data": {
      "text/plain": [
       "'139*139;'"
      ]
     },
     "execution_count": 53,
     "metadata": {},
     "output_type": "execute_result"
    }
   ],
   "source": [
    "In[22]"
   ]
  },
  {
   "cell_type": "code",
   "execution_count": 57,
   "metadata": {},
   "outputs": [
    {
     "data": {
      "text/plain": [
       "8.91190036900369"
      ]
     },
     "execution_count": 57,
     "metadata": {},
     "output_type": "execute_result"
    }
   ],
   "source": [
    "# Now I'm trying to do math with the desired outputs;\n",
    "Out[20]/Out[6]"
   ]
  },
  {
   "cell_type": "code",
   "execution_count": 59,
   "metadata": {},
   "outputs": [
    {
     "data": {
      "text/plain": [
       "66553"
      ]
     },
     "execution_count": 59,
     "metadata": {},
     "output_type": "execute_result"
    }
   ],
   "source": [
    "Out[20]+Out[19]+10000\n"
   ]
  },
  {
   "cell_type": "code",
   "execution_count": 60,
   "metadata": {},
   "outputs": [
    {
     "data": {
      "text/plain": [
       "565530"
      ]
     },
     "execution_count": 60,
     "metadata": {},
     "output_type": "execute_result"
    }
   ],
   "source": [
    "Out[21]*10"
   ]
  },
  {
   "cell_type": "markdown",
   "metadata": {},
   "source": [
    "To see a history of your code insertions, use the *magic* function `%history`; You can choose your desired specific lines with `%history -n x-y`"
   ]
  },
  {
   "cell_type": "code",
   "execution_count": 52,
   "metadata": {},
   "outputs": [
    {
     "name": "stdout",
     "output_type": "stream",
     "text": [
      "print(\"I think it is going to rain!\")\n",
      "%quickref\n",
      "%quickref\n",
      "2154+14\n",
      "_\n",
      "_\n",
      "__*1000\n",
      "__*1000\n",
      "124+1814;\n",
      "_\n",
      "___\n",
      "__*1000\n",
      "__*1000\n",
      "__*1000\n",
      "58445+8787\n",
      "_-10000\n",
      "58445+8787;\n",
      "_-10000\n",
      "_-10000\n",
      "139*139\n",
      "_+__\n",
      "139*139;\n",
      "___\n",
      "__\n",
      "_\n",
      "__\n",
      "___\n",
      "__\n",
      "___\n",
      "___\n",
      "out[22]\n",
      "=out[22]\n",
      "Out[19]\n",
      "Out[22]\n",
      "Out[21]\n",
      "_=Out[22]\n",
      "_[22]==Out[22]\n",
      "Out[17]\n",
      "Out[19]\n",
      "Out[19]\n",
      "In[22]\n",
      "In[22]\n",
      "-i=\n",
      "-i\n",
      "_i=\n",
      "_i\n",
      "%history\n",
      "%history -n 17-22\n",
      "In[22]\n",
      "# Obtaining a suppressed output\n",
      "Out[20]\n",
      "In[22]\n",
      "%history\n"
     ]
    }
   ],
   "source": [
    "%history"
   ]
  },
  {
   "cell_type": "code",
   "execution_count": 48,
   "metadata": {},
   "outputs": [
    {
     "name": "stdout",
     "output_type": "stream",
     "text": [
      "  17: 58445+8787;\n",
      "  18: _-10000\n",
      "  19: _-10000\n",
      "  20: 139*139\n",
      "  21: _+__\n",
      "  22: 139*139;\n"
     ]
    }
   ],
   "source": [
    "%history -n 17-22"
   ]
  },
  {
   "cell_type": "code",
   "execution_count": null,
   "metadata": {},
   "outputs": [],
   "source": []
  }
 ],
 "metadata": {
  "kernelspec": {
   "display_name": "Python 3",
   "language": "python",
   "name": "python3"
  },
  "language_info": {
   "codemirror_mode": {
    "name": "ipython",
    "version": 3
   },
   "file_extension": ".py",
   "mimetype": "text/x-python",
   "name": "python",
   "nbconvert_exporter": "python",
   "pygments_lexer": "ipython3",
   "version": "3.6.7"
  }
 },
 "nbformat": 4,
 "nbformat_minor": 2
}
